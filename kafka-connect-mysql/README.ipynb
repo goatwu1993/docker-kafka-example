
{
 "cells": [
  {
   "cell_type": "markdown",
   "metadata": {},
   "source": [
    "# Kafka Connect with MySQL\n",
    "\n",
    "Slighty modified from Confluent's example. Only version is updated.\n",
    "\n",
    "- confluent platform docker version 5.4.0\n",
    "- mysql version 8.0.19\n",
    "\n",
    "## Prerequisites\n",
    "\n",
    "- Docker\n",
    "- Docker Compose\n",
    "- curl\n",
    "- **Docker-Machine**  \n",
    "  Docker for mac is not native as Linux.  \n",
    "  Weird network behavior may occur."
   ]
  },
  {
   "cell_type": "markdown",
   "metadata": {},
   "source": [
    "## (Mac) Start Docker-Machine"
   ]
  },
  {
   "cell_type": "code",
   "execution_count": 1,
   "metadata": {},
   "outputs": [
    {
     "name": "stdout",
     "output_type": "stream",
     "text": [
      "Docker machine \"confluent\" already exists\n",
      "continue\n"
     ]
    }
   ],
   "source": [
    "# if using docker-machine\n",
    "docker-machine create --driver virtualbox --virtualbox-memory 6000 confluent || echo \"continue\""
   ]
  },
  {
   "cell_type": "code",
   "execution_count": 2,
   "metadata": {},
   "outputs": [
    {
     "name": "stdout",
     "output_type": "stream",
     "text": [
      "Starting \"confluent\"...\n",
      "Machine \"confluent\" is already running.\n",
      "continue\n"
     ]
    }
   ],
   "source": [
    "docker-machine start confluent || echo \"continue\""
   ]
  },
  {
   "cell_type": "code",
   "execution_count": 3,
   "metadata": {},
   "outputs": [],
   "source": [
    "eval $(docker-machine env confluent)"
   ]
  },
  {
   "cell_type": "markdown",
   "metadata": {},
   "source": [
    "## Download MySQL JDBC Driver\n",
    "\n",
    "Please make sure MySQL-JDBC version suit MySQL version."
   ]
  },
  {
   "cell_type": "code",
   "execution_count": 4,
   "metadata": {},
   "outputs": [
    {
     "name": "stdout",
     "output_type": "stream",
     "text": [
      "Stopping control-center   ... \n",
      "Stopping quickstart-mysql ... \n",
      "Stopping connect          ... \n",
      "Stopping schema-registry  ... \n",
      "Stopping broker           ... \n",
      "Stopping zookeeper        ... \n",
      "\u001b[1BGoing to remove control-center, quickstart-mysql, connect, schema-registry, broker, zookeeper\n",
      "Removing control-center   ... \n",
      "Removing quickstart-mysql ... \n",
      "Removing connect          ... \n",
      "Removing schema-registry  ... \n",
      "Removing broker           ... \n",
      "Removing zookeeper        ... \n",
      "\u001b[6Bving control-center   ... \u001b[32mdone\u001b[0m"
     ]
    }
   ],
   "source": [
    "docker-compose stop ; docker-compose rm -f"
   ]
  },
  {
   "cell_type": "code",
   "execution_count": 5,
   "metadata": {
    "scrolled": true
   },
   "outputs": [
    {
     "name": "stdout",
     "output_type": "stream",
     "text": [
      "/usr/sbin/mysqld  Ver 8.0.19 for Linux on x86_64 (MySQL Community Server - GPL)\n"
     ]
    }
   ],
   "source": [
    "docker run --rm mysql --version"
   ]
  },
  {
   "cell_type": "code",
   "execution_count": 6,
   "metadata": {},
   "outputs": [
    {
     "name": "stdout",
     "output_type": "stream",
     "text": [
      "total 2312\n",
      "drwxr-xr-x    2 root     root          4096 Mar  2 20:42 .\n",
      "drwxr-xr-x    4 root     root          4096 Mar  2 18:20 ..\n",
      "-rw-r--r--    1 root     root       2356711 Dec  4 11:44 mysql-connector-java-8.0.19.jar\n"
     ]
    }
   ],
   "source": [
    "# if using docker-machine\n",
    "docker-machine ssh confluent -- \\\n",
    "\"\"\"\n",
    "sudo mkdir -p /tmp/quickstart/jars;\n",
    "sudo curl -k \\\n",
    "    -s \\\n",
    "    -SL \\\n",
    "    \\\"http://dev.mysql.com/get/Downloads/Connector-J/mysql-connector-java-8.0.19.tar.gz\\\" |\n",
    "    sudo tar -xzf - -C \\\n",
    "        /tmp/quickstart/jars \\\n",
    "        --strip-components=1 \\\n",
    "        mysql-connector-java-8.0.19/mysql-connector-java-8.0.19.jar;\n",
    "ls -la /tmp/quickstart/jars\n",
    "\"\"\""
   ]
  },
  {
   "cell_type": "markdown",
   "metadata": {},
   "source": [
    "MySQL-JDBC can be found here\n",
    "\n",
    "- [MySQL Engineering Blogs](https://dev.mysql.com/downloads/connector/j/)\n",
    "- [mvnrepository](https://mvnrepository.com/artifact/mysql/mysql-connector-java/8.0.19)"
   ]
  },
  {
   "cell_type": "markdown",
   "metadata": {},
   "source": [
    "## Start Docker Compose"
   ]
  },
  {
   "cell_type": "code",
   "execution_count": 7,
   "metadata": {},
   "outputs": [
    {
     "name": "stdout",
     "output_type": "stream",
     "text": [
      "Creating zookeeper ... \n",
      "\u001b[1BCreating broker    ... mdone\u001b[0m\n",
      "\u001b[1BCreating schema-registry ... [0m\n",
      "\u001b[1BCreating connect         ... mdone\u001b[0m\n",
      "\u001b[1BCreating quickstart-mysql ... done\u001b[0m\n",
      "Creating control-center   ... \n",
      "\u001b[1Bting control-center   ... \u001b[32mdone\u001b[0m"
     ]
    }
   ],
   "source": [
    "docker-compose up -d"
   ]
  },
  {
   "cell_type": "markdown",
   "metadata": {},
   "source": [
    "## Dump some data into MySQL\n",
    "\n",
    "MySQL may take some time to load"
   ]
  },
  {
   "cell_type": "code",
   "execution_count": 8,
   "metadata": {},
   "outputs": [],
   "source": [
    "# Nasty script to wait for mysql ready\n",
    "while ! docker exec quickstart-mysql mysql --user=confluent --password=confluent -e \"SELECT 1\" >/dev/null 2>&1; do\n",
    " sleep 1\n",
    "done"
   ]
  },
  {
   "cell_type": "code",
   "execution_count": 9,
   "metadata": {
    "scrolled": true
   },
   "outputs": [
    {
     "name": "stdout",
     "output_type": "stream",
     "text": [
      "mysql: [Warning] Using a password on the command line interface can be insecure.\n",
      "id\tname\temail\tdepartment\tmodified\n",
      "1\talice\talice@abc.com\tengineering\t2020-03-02 20:44:27\n",
      "2\tbob\tbob@abc.com\tsales\t2020-03-02 20:44:27\n",
      "3\tbob\tbob@abc.com\tsales\t2020-03-02 20:44:27\n",
      "4\tbob\tbob@abc.com\tsales\t2020-03-02 20:44:27\n",
      "5\tbob\tbob@abc.com\tsales\t2020-03-02 20:44:27\n",
      "6\tbob\tbob@abc.com\tsales\t2020-03-02 20:44:27\n",
      "7\tbob\tbob@abc.com\tsales\t2020-03-02 20:44:27\n",
      "8\tbob\tbob@abc.com\tsales\t2020-03-02 20:44:27\n",
      "9\tbob\tbob@abc.com\tsales\t2020-03-02 20:44:27\n",
      "10\tbob\tbob@abc.com\tsales\t2020-03-02 20:44:27\n"
     ]
    }
   ],
   "source": [
    "docker exec -i quickstart-mysql mysql -u confluent -pconfluent <<< \"\"\"\n",
    "CREATE DATABASE IF NOT EXISTS connect_test;\n",
    "USE connect_test;\n",
    "\n",
    "DROP TABLE IF EXISTS test;\n",
    "\n",
    "CREATE TABLE IF NOT EXISTS test (\n",
    "  id serial NOT NULL PRIMARY KEY,\n",
    "  name varchar(100),\n",
    "  email varchar(200),\n",
    "  department varchar(200),\n",
    "  modified timestamp default CURRENT_TIMESTAMP NOT NULL,\n",
    "  INDEX \\`modified_index\\` (\\`modified\\`)\n",
    ");\n",
    "\n",
    "INSERT INTO test (name, email, department) VALUES ('alice', 'alice@abc.com', 'engineering');\n",
    "INSERT INTO test (name, email, department) VALUES ('bob', 'bob@abc.com', 'sales');\n",
    "INSERT INTO test (name, email, department) VALUES ('bob', 'bob@abc.com', 'sales');\n",
    "INSERT INTO test (name, email, department) VALUES ('bob', 'bob@abc.com', 'sales');\n",
    "INSERT INTO test (name, email, department) VALUES ('bob', 'bob@abc.com', 'sales');\n",
    "INSERT INTO test (name, email, department) VALUES ('bob', 'bob@abc.com', 'sales');\n",
    "INSERT INTO test (name, email, department) VALUES ('bob', 'bob@abc.com', 'sales');\n",
    "INSERT INTO test (name, email, department) VALUES ('bob', 'bob@abc.com', 'sales');\n",
    "INSERT INTO test (name, email, department) VALUES ('bob', 'bob@abc.com', 'sales');\n",
    "INSERT INTO test (name, email, department) VALUES ('bob', 'bob@abc.com', 'sales');\n",
    "SELECT * FROM test;\n",
    "\"\"\""
   ]
  },
  {
   "cell_type": "markdown",
   "metadata": {},
   "source": [
    "## Source Connector\n",
    "\n",
    "### Add source connector\n",
    "\n",
    "Either API or Web UI(Confluent Platform) will acheive the goal."
   ]
  },
  {
   "cell_type": "code",
   "execution_count": 10,
   "metadata": {},
   "outputs": [],
   "source": [
    "export CONNECT_NET=\"kafka-connect-mysql_default\""
   ]
  },
  {
   "cell_type": "markdown",
   "metadata": {},
   "source": [
    "The kafka-connect container may take a while until REST staart up."
   ]
  },
  {
   "cell_type": "code",
   "execution_count": 13,
   "metadata": {},
   "outputs": [
    {
     "name": "stdout",
     "output_type": "stream",
     "text": [
      "{\"error_code\":409,\"message\":\"Connector quickstart-jdbc-source already exists\"}"
     ]
    }
   ],
   "source": [
    "# Call the API of connect\n",
    "docker run \\\n",
    "    --net=\"${CONNECT_NET}\" \\\n",
    "    --rm curlimages/curl:7.68.0 \\\n",
    "    -X POST \\\n",
    "    -s \\\n",
    "    -H \"Content-Type: application/json\" \\\n",
    "    --data '{ \"name\": \"quickstart-jdbc-source\", \"config\": { \"connector.class\": \"io.confluent.connect.jdbc.JdbcSourceConnector\", \"tasks.max\": 1, \"connection.url\": \"jdbc:mysql://quickstart-mysql:3306/connect_test?user=root&password=confluent\", \"mode\": \"incrementing\", \"incrementing.column.name\": \"id\", \"timestamp.column.name\": \"modified\", \"topic.prefix\": \"quickstart-jdbc-\", \"poll.interval.ms\": 1000 } }' \\\n",
    "    http://connect:8083/connectors"
   ]
  },
  {
   "cell_type": "code",
   "execution_count": 14,
   "metadata": {},
   "outputs": [
    {
     "name": "stdout",
     "output_type": "stream",
     "text": [
      "Topic: quickstart-jdbc-test\tPartitionCount: 1\tReplicationFactor: 1\tConfigs: \n",
      "\tTopic: quickstart-jdbc-test\tPartition: 0\tLeader: 1\tReplicas: 1\tIsr: 1\n"
     ]
    }
   ],
   "source": [
    "# Check if new topic is created\n",
    "docker run \\\n",
    "    --net=\"${CONNECT_NET}\" \\\n",
    "    --rm \\\n",
    "    confluentinc/cp-kafka:5.4.0 \\\n",
    "    kafka-topics --describe \\\n",
    "    --zookeeper zookeeper:2181 \\\n",
    "    --topic quickstart-jdbc-test"
   ]
  },
  {
   "cell_type": "code",
   "execution_count": 15,
   "metadata": {},
   "outputs": [
    {
     "name": "stdout",
     "output_type": "stream",
     "text": [
      "null\t{\"id\":1,\"name\":{\"string\":\"alice\"},\"email\":{\"string\":\"alice@abc.com\"},\"department\":{\"string\":\"engineering\"},\"modified\":1583181867000}\n",
      "null\t{\"id\":2,\"name\":{\"string\":\"bob\"},\"email\":{\"string\":\"bob@abc.com\"},\"department\":{\"string\":\"sales\"},\"modified\":1583181867000}\n",
      "null\t{\"id\":3,\"name\":{\"string\":\"bob\"},\"email\":{\"string\":\"bob@abc.com\"},\"department\":{\"string\":\"sales\"},\"modified\":1583181867000}\n",
      "null\t{\"id\":4,\"name\":{\"string\":\"bob\"},\"email\":{\"string\":\"bob@abc.com\"},\"department\":{\"string\":\"sales\"},\"modified\":1583181867000}\n",
      "null\t{\"id\":5,\"name\":{\"string\":\"bob\"},\"email\":{\"string\":\"bob@abc.com\"},\"department\":{\"string\":\"sales\"},\"modified\":1583181867000}\n",
      "null\t{\"id\":6,\"name\":{\"string\":\"bob\"},\"email\":{\"string\":\"bob@abc.com\"},\"department\":{\"string\":\"sales\"},\"modified\":1583181867000}\n",
      "null\t{\"id\":7,\"name\":{\"string\":\"bob\"},\"email\":{\"string\":\"bob@abc.com\"},\"department\":{\"string\":\"sales\"},\"modified\":1583181867000}\n",
      "null\t{\"id\":8,\"name\":{\"string\":\"bob\"},\"email\":{\"string\":\"bob@abc.com\"},\"department\":{\"string\":\"sales\"},\"modified\":1583181867000}\n",
      "null\t{\"id\":9,\"name\":{\"string\":\"bob\"},\"email\":{\"string\":\"bob@abc.com\"},\"department\":{\"string\":\"sales\"},\"modified\":1583181867000}\n",
      "null\t{\"id\":10,\"name\":{\"string\":\"bob\"},\"email\":{\"string\":\"bob@abc.com\"},\"department\":{\"string\":\"sales\"},\"modified\":1583181867000}\n",
      "Processed a total of 10 messages\n"
     ]
    }
   ],
   "source": [
    "docker exec schema-registry \\\n",
    "    kafka-avro-console-consumer \\\n",
    "    --bootstrap-server broker:29092 \\\n",
    "    --topic quickstart-jdbc-test \\\n",
    "    --from-beginning \\\n",
    "    --property print.key=true \\\n",
    "    --max-messages 10 | \\\n",
    "    grep -e \"^null\""
   ]
  },
  {
   "cell_type": "markdown",
   "metadata": {},
   "source": [
    "## Sink Connector\n",
    "\n",
    "### Add sink connector"
   ]
  },
  {
   "cell_type": "code",
   "execution_count": 16,
   "metadata": {},
   "outputs": [
    {
     "name": "stdout",
     "output_type": "stream",
     "text": [
      "  % Total    % Received % Xferd  Average Speed   Time    Time     Time  Current\n",
      "                                 Dload  Upload   Total   Spent    Left  Speed\n",
      "100   487  100   270  100   217    461    370 --:--:-- --:--:-- --:--:--   833\n",
      "{\"name\":\"quickstart-avro-file-sink\",\"config\":{\"connector.class\":\"org.apache.kafka.connect.file.FileStreamSinkConnector\",\"tasks.max\":\"1\",\"topics\":\"quickstart-jdbc-test\",\"file\":\"/tmp/quickstart/jdbc-output.txt\",\"name\":\"quickstart-avro-file-sink\"},\"tasks\":[],\"type\":\"sink\"}"
     ]
    }
   ],
   "source": [
    "# Call the API of connect\n",
    "docker run \\\n",
    "    --net=\"${CONNECT_NET}\" \\\n",
    "    --rm \\\n",
    "    curlimages/curl:7.68.0 \\\n",
    "    -X POST \\\n",
    "    -H \"Content-Type: application/json\" \\\n",
    "    --data '{\"name\": \"quickstart-avro-file-sink\", \"config\": {\"connector.class\":\"org.apache.kafka.connect.file.FileStreamSinkConnector\", \"tasks.max\":\"1\", \"topics\":\"quickstart-jdbc-test\", \"file\": \"/tmp/quickstart/jdbc-output.txt\"}}' \\\n",
    "    http://connect:8083/connectors"
   ]
  },
  {
   "cell_type": "markdown",
   "metadata": {},
   "source": [
    "### Status check (Sink)\n"
   ]
  },
  {
   "cell_type": "code",
   "execution_count": 17,
   "metadata": {},
   "outputs": [
    {
     "name": "stdout",
     "output_type": "stream",
     "text": [
      "{\"name\":\"quickstart-avro-file-sink\",\"connector\":{\"state\":\"RUNNING\",\"worker_id\":\"connect:8083\"},\"tasks\":[],\"type\":\"sink\"}"
     ]
    }
   ],
   "source": [
    "# Check connector status through API\n",
    "docker run \\\n",
    "    --net=\"${CONNECT_NET}\" \\\n",
    "    --rm \\\n",
    "    curlimages/curl:7.68.0 \\\n",
    "    -s -X GET http://connect:8083/connectors/quickstart-avro-file-sink/status"
   ]
  },
  {
   "cell_type": "markdown",
   "metadata": {},
   "source": [
    "## Results"
   ]
  },
  {
   "cell_type": "code",
   "execution_count": 18,
   "metadata": {},
   "outputs": [
    {
     "name": "stdout",
     "output_type": "stream",
     "text": [
      "Struct{id=1,name=alice,email=alice@abc.com,department=engineering,modified=Mon Mar 02 20:38:25 UTC 2020}\n",
      "Struct{id=2,name=bob,email=bob@abc.com,department=sales,modified=Mon Mar 02 20:38:25 UTC 2020}\n",
      "Struct{id=3,name=bob,email=bob@abc.com,department=sales,modified=Mon Mar 02 20:38:25 UTC 2020}\n",
      "Struct{id=4,name=bob,email=bob@abc.com,department=sales,modified=Mon Mar 02 20:38:25 UTC 2020}\n",
      "Struct{id=5,name=bob,email=bob@abc.com,department=sales,modified=Mon Mar 02 20:38:25 UTC 2020}\n",
      "Struct{id=6,name=bob,email=bob@abc.com,department=sales,modified=Mon Mar 02 20:38:25 UTC 2020}\n",
      "Struct{id=7,name=bob,email=bob@abc.com,department=sales,modified=Mon Mar 02 20:38:25 UTC 2020}\n",
      "Struct{id=8,name=bob,email=bob@abc.com,department=sales,modified=Mon Mar 02 20:38:25 UTC 2020}\n",
      "Struct{id=9,name=bob,email=bob@abc.com,department=sales,modified=Mon Mar 02 20:38:25 UTC 2020}\n",
      "Struct{id=10,name=bob,email=bob@abc.com,department=sales,modified=Mon Mar 02 20:38:25 UTC 2020}\n"
     ]
    }
   ],
   "source": [
    "# if using docker-machine\n",
    "docker-machine >/dev/null 2>&1 && \\\n",
    "    docker-machine ssh confluent \\\n",
    "    cat /tmp/quickstart/file/jdbc-output.txt"
   ]
  },
  {
   "cell_type": "code",
   "execution_count": null,
   "metadata": {},
   "outputs": [],
   "source": []
  }
 ],
 "metadata": {
  "kernelspec": {
   "display_name": "Bash",
   "language": "bash",
   "name": "bash"
  },
  "language_info": {
   "codemirror_mode": "shell",
   "file_extension": ".sh",
   "mimetype": "text/x-sh",
   "name": "bash"
  }
 },
 "nbformat": 4,
 "nbformat_minor": 2
}
