{
 "cells": [
  {
   "cell_type": "markdown",
   "metadata": {},
   "source": [
    "# Kafka Connect MySQL to MongoDB\n",
    "\n",
    "Slighty modified from Confluent's example.\n",
    "\n",
    "- [confluent platform docker](https://github.com/confluentinc/cp-docker-images/blob/5.3.0-post/examples/cp-all-in-one/docker-compose.yml) version 5.4.0\n",
    "- mysql version 8.0.19\n",
    "\n",
    "## Prerequisites\n",
    "\n",
    "- Docker\n",
    "- Docker Compose\n",
    "- curl\n",
    "- **Docker-Machine**  \n",
    "  Docker for mac is not as native as Linux. Weird network behavior may occur.  \n",
    "  Better use docker-machine to avoid it."
   ]
  },
  {
   "cell_type": "markdown",
   "metadata": {},
   "source": [
    "## (Mac) Start Docker-Machine"
   ]
  },
  {
   "cell_type": "code",
   "execution_count": 1,
   "metadata": {},
   "outputs": [
    {
     "name": "stdout",
     "output_type": "stream",
     "text": [
      "Docker machine \"confluent\" already exists\n",
      "Starting \"confluent\"...\n",
      "Machine \"confluent\" is already running.\n",
      "Docker machine started\n"
     ]
    }
   ],
   "source": [
    "# if using docker-machine\n",
    "if [ docker-machine >/dev/null 2>&1 ]\n",
    "then\n",
    "    docker-machine create --driver virtualbox --virtualbox-memory 6000 confluent\n",
    "    docker-machine start confluent\n",
    "    eval $(docker-machine env confluent)\n",
    "    echo \"Docker machine started\"\n",
    "else\n",
    "    echo \"Docker is native on your system\"\n",
    "fi"
   ]
  },
  {
   "cell_type": "markdown",
   "metadata": {},
   "source": [
    "## Download MySQL JDBC Driver\n",
    "\n",
    "It is important to make sure the **version of MySQL-JDBC** match **the version of MySQL**."
   ]
  },
  {
   "cell_type": "code",
   "execution_count": 2,
   "metadata": {},
   "outputs": [
    {
     "name": "stdout",
     "output_type": "stream",
     "text": [
      "\n",
      "No stopped containers\n"
     ]
    }
   ],
   "source": [
    "docker-compose stop\n",
    "echo\n",
    "docker-compose rm -f"
   ]
  },
  {
   "cell_type": "code",
   "execution_count": 3,
   "metadata": {
    "scrolled": true
   },
   "outputs": [
    {
     "name": "stdout",
     "output_type": "stream",
     "text": [
      "/usr/sbin/mysqld  Ver 8.0.19 for Linux on x86_64 (MySQL Community Server - GPL)\n"
     ]
    }
   ],
   "source": [
    "docker run --rm mysql --version"
   ]
  },
  {
   "cell_type": "code",
   "execution_count": 4,
   "metadata": {},
   "outputs": [
    {
     "name": "stdout",
     "output_type": "stream",
     "text": [
      "total 2312\n",
      "drwxr-xr-x    2 root     root          4096 Mar  3 07:00 .\n",
      "drwxr-xr-x    4 root     root          4096 Mar  2 22:19 ..\n",
      "-rw-r--r--    1 root     root       2356711 Dec  4 11:44 mysql-connector-java-8.0.19.jar\n"
     ]
    }
   ],
   "source": [
    "if [ docker-machine >/dev/null 2>&1 ]\n",
    "then\n",
    "    docker-machine ssh confluent -- \\\n",
    "    \"\"\"\n",
    "    sudo mkdir -p /tmp/quickstart/jars;\n",
    "    sudo curl -k \\\n",
    "        -s \\\n",
    "        -SL \\\n",
    "        \\\"http://dev.mysql.com/get/Downloads/Connector-J/mysql-connector-java-8.0.19.tar.gz\\\" |\n",
    "        sudo tar -xzf - -C \\\n",
    "            /tmp/quickstart/jars \\\n",
    "            --strip-components=1 \\\n",
    "            mysql-connector-java-8.0.19/mysql-connector-java-8.0.19.jar;\n",
    "    ls -la /tmp/quickstart/jars\n",
    "    \"\"\"\n",
    "else\n",
    "    sudo mkdir -p /tmp/quickstart/jars;\n",
    "    sudo curl -k \\\n",
    "        -s \\\n",
    "        -SL \\\n",
    "        \\\"http://dev.mysql.com/get/Downloads/Connector-J/mysql-connector-java-8.0.19.tar.gz\\\" |\n",
    "        sudo tar -xzf - -C \\\n",
    "            /tmp/quickstart/jars \\\n",
    "            --strip-components=1 \\\n",
    "            mysql-connector-java-8.0.19/mysql-connector-java-8.0.19.jar;\n",
    "    ls -la /tmp/quickstart/jars\n",
    "fi"
   ]
  },
  {
   "cell_type": "markdown",
   "metadata": {},
   "source": [
    "### MySQL-JDBC\n",
    "\n",
    "- [MySQL Engineering Blogs](https://dev.mysql.com/downloads/connector/j/)\n",
    "- [mvnrepository](https://mvnrepository.com/artifact/mysql/mysql-connector-java/8.0.19)"
   ]
  },
  {
   "cell_type": "markdown",
   "metadata": {},
   "source": [
    "## Mongo Connector"
   ]
  },
  {
   "cell_type": "code",
   "execution_count": null,
   "metadata": {},
   "outputs": [],
   "source": [
    "if [ docker-machine >/dev/null 2>&1 ]\n",
    "then\n",
    "    docker-machine ssh confluent -- \\\n",
    "    \"\"\"\n",
    "    sudo mkdir -p /tmp/quickstart/mongojars;\n",
    "    sudo curl -s -SL \\\n",
    "        'https://search.maven.org/remotecontent?filepath=org/mongodb/kafka/mongo-kafka-connect/1.0.1/mongo-kafka-connect-1.0.1.jar' \\\n",
    "        -o /tmp/quickstart/jars/mongo-kafka-connect-1.0.1.jar\n",
    "    ls -la /tmp/quickstart/mongojars\n",
    "    \"\"\"\n",
    "else\n",
    "    sudo mkdir -p /tmp/quickstart/mongojars;\n",
    "    sudo curl -s -SL \\\n",
    "        'https://search.maven.org/remotecontent?filepath=org/mongodb/kafka/mongo-kafka-connect/1.0.1/mongo-kafka-connect-1.0.1.jar' \\\n",
    "        -o /tmp/quickstart/jars/mongo-kafka-connect-1.0.1.jar\n",
    "    ls -la /tmp/quickstart/jars\n",
    "fi\n"
   ]
  },
  {
   "cell_type": "markdown",
   "metadata": {},
   "source": [
    "## Start Docker Compose"
   ]
  },
  {
   "cell_type": "code",
   "execution_count": 6,
   "metadata": {},
   "outputs": [
    {
     "name": "stdout",
     "output_type": "stream",
     "text": [
      "Creating zookeeper ... \n",
      "\u001b[1Bting zookeeper ... \u001b[31merror\u001b[0m\n",
      "ERROR: for zookeeper  Cannot create container for service zookeeper: Conflict. The container name \"/zookeeper\" is already in use by container \"40779a9064b63109fdef80105ab787339c562e2b4a65c6fa2b4f014497fcac86\". You have to remove (or rename) that container to be able to reuse that name.\n",
      "\n",
      "ERROR: for zookeeper  Cannot create container for service zookeeper: Conflict. The container name \"/zookeeper\" is already in use by container \"40779a9064b63109fdef80105ab787339c562e2b4a65c6fa2b4f014497fcac86\". You have to remove (or rename) that container to be able to reuse that name.\n",
      "\u001b[31mERROR\u001b[0m: Encountered errors while bringing up the project.\n"
     ]
    },
    {
     "ename": "",
     "evalue": "1",
     "output_type": "error",
     "traceback": []
    }
   ],
   "source": [
    "docker-compose stop ; docker-compose up -d"
   ]
  },
  {
   "cell_type": "markdown",
   "metadata": {},
   "source": [
    "## Insert data into MySQL\n",
    "\n",
    "MySQL container may take a while until it can function."
   ]
  },
  {
   "cell_type": "code",
   "execution_count": null,
   "metadata": {},
   "outputs": [],
   "source": [
    "# Nasty script to wait for mysql be ready\n",
    "while ! docker exec quickstart-mysql mysql --user=confluent --password=confluent -e \"SELECT 1\" >/dev/null 2>&1; do\n",
    "    sleep 1\n",
    "done"
   ]
  },
  {
   "cell_type": "code",
   "execution_count": null,
   "metadata": {
    "scrolled": true
   },
   "outputs": [],
   "source": [
    "docker exec -i quickstart-mysql mysql -u confluent -pconfluent <<< \"\"\"\n",
    "CREATE DATABASE IF NOT EXISTS connect_test;\n",
    "USE connect_test;\n",
    "\n",
    "DROP TABLE IF EXISTS test;\n",
    "\n",
    "CREATE TABLE IF NOT EXISTS test (\n",
    "  id serial NOT NULL PRIMARY KEY,\n",
    "  name varchar(100),\n",
    "  email varchar(200),\n",
    "  department varchar(200),\n",
    "  modified timestamp default CURRENT_TIMESTAMP NOT NULL,\n",
    "  INDEX \\`modified_index\\` (\\`modified\\`)\n",
    ");\n",
    "\n",
    "INSERT INTO test (name, email, department) VALUES ('alice', 'alice@abc.com', 'engineering');\n",
    "INSERT INTO test (name, email, department) VALUES ('bob', 'bob@abc.com', 'sales');\n",
    "INSERT INTO test (name, email, department) VALUES ('bob', 'bob@abc.com', 'sales');\n",
    "INSERT INTO test (name, email, department) VALUES ('bob', 'bob@abc.com', 'sales');\n",
    "INSERT INTO test (name, email, department) VALUES ('bob', 'bob@abc.com', 'sales');\n",
    "INSERT INTO test (name, email, department) VALUES ('bob', 'bob@abc.com', 'sales');\n",
    "INSERT INTO test (name, email, department) VALUES ('bob', 'bob@abc.com', 'sales');\n",
    "INSERT INTO test (name, email, department) VALUES ('bob', 'bob@abc.com', 'sales');\n",
    "INSERT INTO test (name, email, department) VALUES ('bob', 'bob@abc.com', 'sales');\n",
    "INSERT INTO test (name, email, department) VALUES ('bob', 'bob@abc.com', 'sales');\n",
    "SELECT * FROM test;\n",
    "\"\"\""
   ]
  },
  {
   "cell_type": "markdown",
   "metadata": {},
   "source": [
    "## Source Connector\n",
    "\n",
    "### Add source connector\n",
    "\n",
    "Either API or Web UI(Confluent Platform) will acheive the goal."
   ]
  },
  {
   "cell_type": "code",
   "execution_count": null,
   "metadata": {},
   "outputs": [],
   "source": [
    "export CONNECT_NET=\"kafka-connect-mysql_default\""
   ]
  },
  {
   "cell_type": "markdown",
   "metadata": {},
   "source": [
    "We have to wait for Kafka Connect to totally start up.  \n",
    "\n",
    "To speed up the process, remove some directory from **CONNECT_PLUGIN_PATH**\n",
    "\n",
    "```bash\n",
    "      #CONNECT_PLUGIN_PATH: \"/usr/share/java,/usr/share/confluent-hub-components\"\n",
    "      CONNECT_PLUGIN_PATH: \"\\\n",
    "        /usr/share/java/kafka,\\\n",
    "        /usr/share/confluent-hub-components,\\\n",
    "        /usr/share/java/kafka-connect-jdbc,\\\n",
    "        /etc/kafka-connect/jars\"\n",
    "```"
   ]
  },
  {
   "cell_type": "code",
   "execution_count": null,
   "metadata": {},
   "outputs": [],
   "source": [
    "while ! docker logs connect 2>&1 | grep -i \"INFO Kafka Connect started\" ; do\n",
    "     sleep 1\n",
    "done"
   ]
  },
  {
   "cell_type": "code",
   "execution_count": null,
   "metadata": {},
   "outputs": [],
   "source": [
    "# Call the API of connect\n",
    "docker run \\\n",
    "    --net=\"${CONNECT_NET}\" \\\n",
    "    --rm curlimages/curl:7.68.0 \\\n",
    "    -X POST \\\n",
    "    -s \\\n",
    "    -H \"Content-Type: application/json\" \\\n",
    "    --data '{ \"name\": \"quickstart-jdbc-source\", \"config\": { \"connector.class\": \"io.confluent.connect.jdbc.JdbcSourceConnector\", \"tasks.max\": 1, \"connection.url\": \"jdbc:mysql://quickstart-mysql:3306/connect_test?user=root&password=confluent\", \"mode\": \"incrementing\", \"incrementing.column.name\": \"id\", \"timestamp.column.name\": \"modified\", \"topic.prefix\": \"quickstart-jdbc-\", \"poll.interval.ms\": 1000 } }' \\\n",
    "    http://connect:8083/connectors"
   ]
  },
  {
   "cell_type": "markdown",
   "metadata": {},
   "source": [
    "### If error message is received\n",
    "\n",
    "Make sure MySQL-JDBC JAR file is correctly mounted to container."
   ]
  },
  {
   "cell_type": "code",
   "execution_count": null,
   "metadata": {},
   "outputs": [],
   "source": [
    "docker exec connect env | grep -e \"^CONNECT_PLUGIN_PATH\""
   ]
  },
  {
   "cell_type": "code",
   "execution_count": null,
   "metadata": {},
   "outputs": [],
   "source": [
    "docker exec connect ls -la /etc/kafka-connect/jars"
   ]
  },
  {
   "cell_type": "markdown",
   "metadata": {},
   "source": [
    "Higher the logging level from docker-compose.yml and run again \n",
    "\n",
    "```bash\n",
    "    #CONNECT_LOG4J_ROOT_LOGLEVEL: \"DEBUG\"\n",
    "```"
   ]
  },
  {
   "cell_type": "markdown",
   "metadata": {},
   "source": [
    "### Status Check"
   ]
  },
  {
   "cell_type": "code",
   "execution_count": null,
   "metadata": {},
   "outputs": [],
   "source": [
    "# Check if new topic is created\n",
    "docker run \\\n",
    "    --net=\"${CONNECT_NET}\" \\\n",
    "    --rm \\\n",
    "    confluentinc/cp-kafka:5.4.0 \\\n",
    "    kafka-topics --describe \\\n",
    "    --zookeeper zookeeper:2181 \\\n",
    "    --topic quickstart-jdbc-test"
   ]
  },
  {
   "cell_type": "code",
   "execution_count": null,
   "metadata": {},
   "outputs": [],
   "source": [
    "docker exec schema-registry \\\n",
    "    kafka-avro-console-consumer \\\n",
    "    --bootstrap-server broker:29092 \\\n",
    "    --topic quickstart-jdbc-test \\\n",
    "    --from-beginning \\\n",
    "    --property print.key=true \\\n",
    "    --max-messages 10 | \\\n",
    "    grep -e \"^null\""
   ]
  },
  {
   "cell_type": "markdown",
   "metadata": {},
   "source": [
    "## Sink Connector\n",
    "\n",
    "### Add sink connector"
   ]
  },
  {
   "cell_type": "code",
   "execution_count": null,
   "metadata": {},
   "outputs": [],
   "source": [
    "# Call the API of connect\n",
    "docker run \\\n",
    "    --net=\"${CONNECT_NET}\" \\\n",
    "    --rm \\\n",
    "    curlimages/curl:7.68.0 \\\n",
    "    -s -X POST \\\n",
    "    -H \"Content-Type: application/json\" \\\n",
    "    --data '{\"name\": \"quickstart-avro-file-sink\", \"config\": {\"connector.class\":\"org.apache.kafka.connect.file.FileStreamSinkConnector\", \"tasks.max\":\"1\", \"topics\":\"quickstart-jdbc-test\", \"file\": \"/tmp/quickstart/jdbc-output.txt\"}}' \\\n",
    "    http://connect:8083/connectors"
   ]
  },
  {
   "cell_type": "markdown",
   "metadata": {},
   "source": [
    "### Status check (Sink)\n"
   ]
  },
  {
   "cell_type": "code",
   "execution_count": null,
   "metadata": {},
   "outputs": [],
   "source": [
    "# Check connector status through API\n",
    "docker run \\\n",
    "    --net=\"${CONNECT_NET}\" \\\n",
    "    --rm \\\n",
    "    curlimages/curl:7.68.0 \\\n",
    "    -s -X GET http://connect:8083/connectors/quickstart-avro-file-sink/status"
   ]
  },
  {
   "cell_type": "markdown",
   "metadata": {},
   "source": [
    "## Results"
   ]
  },
  {
   "cell_type": "code",
   "execution_count": null,
   "metadata": {
    "scrolled": true
   },
   "outputs": [],
   "source": [
    "# if using docker-machine\n",
    "if [ docker-machine >/dev/null 2>&1 ]\n",
    "then\n",
    "    docker-machine ssh confluent -- cat /tmp/quickstart/file/jdbc-output.txt\n",
    "else\n",
    "    cat /tmp/quickstart/file/jdbc-output.txt\n",
    "fi"
   ]
  },
  {
   "cell_type": "code",
   "execution_count": null,
   "metadata": {},
   "outputs": [],
   "source": [
    "docker-compose stop"
   ]
  },
  {
   "cell_type": "markdown",
   "metadata": {},
   "source": [
    "## References\n",
    "- <https://docs.confluent.io/5.0.0/installation/docker/docs/installation/connect-avro-jdbc.html>\n",
    "- <https://www.confluent.io/blog/kafka-connect-deep-dive-jdbc-source-connector/#no-suitable-driver-found>\n",
    "- <https://rmoff.net/post/kafka-connect-change-log-level-and-write-log-to-file/>\n",
    "- <https://stackoverflow.com/questions/25503412/how-do-i-know-when-my-docker-mysql-container-is-up-and-mysql-is-ready-for-taking>"
   ]
  }
 ],
 "metadata": {
  "kernelspec": {
   "display_name": "Bash",
   "language": "bash",
   "name": "bash"
  },
  "language_info": {
   "codemirror_mode": "shell",
   "file_extension": ".sh",
   "mimetype": "text/x-sh",
   "name": "bash"
  }
 },
 "nbformat": 4,
 "nbformat_minor": 2
}
